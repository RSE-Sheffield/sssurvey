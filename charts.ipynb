{
 "cells": [
  {
   "cell_type": "markdown",
   "id": "27c13b4a",
   "metadata": {
    "hideCode": false,
    "hidePrompt": false
   },
   "source": [
    "# D R A F T\n",
    "\n",
    "This notebook makes charts based on the Sheffield Software Survey, displays them and saves them to a folder called `charts/`.\n",
    "\n",
    "## Import required libraries"
   ]
  },
  {
   "cell_type": "code",
   "execution_count": 1,
   "id": "f231bd0c",
   "metadata": {
    "hideCode": false,
    "hidePrompt": false
   },
   "outputs": [],
   "source": [
    "import matplotlib.pyplot as plt\n",
    "import numpy as np\n",
    "import pandas as pd\n",
    "import seaborn as sns"
   ]
  },
  {
   "cell_type": "markdown",
   "id": "a58c6202",
   "metadata": {
    "hideCode": false,
    "hidePrompt": false
   },
   "source": [
    "## Load Data"
   ]
  },
  {
   "cell_type": "code",
   "execution_count": 2,
   "id": "f9cb776e",
   "metadata": {
    "hideCode": false,
    "hidePrompt": false
   },
   "outputs": [],
   "source": [
    "sheffield_df = pd.read_csv('./data/clean/sheffield_clean.csv')\n",
    "\n",
    "funders_df = pd.read_csv('./data/clean/funders_clean.csv')\n",
    "\n",
    "funder_counts_df = pd.read_csv('./data/clean/funder_counts_clean.csv')\n",
    "\n",
    "funds_for_development_df = pd.read_csv('./data/clean/funds_for_development_clean.csv')\n",
    "\n",
    "jobs_count_df = pd.read_csv('./data/clean/job_title_counts_clean.csv')\n",
    "\n",
    "conf_order = ['Very confident','Confident','Not confident','Not heard of it']"
   ]
  },
  {
   "cell_type": "markdown",
   "id": "ced18c42",
   "metadata": {},
   "source": [
    "## Function to easily add percentages"
   ]
  },
  {
   "cell_type": "code",
   "execution_count": 3,
   "id": "51ac6929",
   "metadata": {},
   "outputs": [],
   "source": [
    "def annotate_pc(ax, total):\n",
    "    for p in ax.patches:\n",
    "            percentage = '{:.1f}%'.format(100 * p.get_width()/total)\n",
    "            x = p.get_x() + p.get_width() + 1\n",
    "            y = p.get_y() + p.get_height()/1.3\n",
    "            ax.annotate(percentage, (x, y))"
   ]
  },
  {
   "cell_type": "markdown",
   "id": "34138ce7",
   "metadata": {
    "hideCode": false,
    "hidePrompt": false
   },
   "source": [
    "## Number of Responses"
   ]
  },
  {
   "cell_type": "code",
   "execution_count": 4,
   "id": "d8862165",
   "metadata": {
    "hideCode": false,
    "hidePrompt": false
   },
   "outputs": [
    {
     "data": {
      "text/plain": [
       "382"
      ]
     },
     "execution_count": 4,
     "metadata": {},
     "output_type": "execute_result"
    }
   ],
   "source": [
    "count_responses = len(sheffield_df.index)\n",
    "count_responses"
   ]
  },
  {
   "cell_type": "markdown",
   "id": "f88824e1",
   "metadata": {
    "hideCode": false,
    "hidePrompt": false
   },
   "source": [
    "# In which faculty are you based?"
   ]
  },
  {
   "cell_type": "code",
   "execution_count": null,
   "id": "06271094",
   "metadata": {},
   "outputs": [],
   "source": [
    "ax = sns.countplot(data=sheffield_df, y='faculty', order=sheffield_df['faculty'].value_counts().index)\n",
    "\n",
    "sns.despine()\n",
    "\n",
    "annotate_pc(ax, count_responses)\n",
    "\n",
    "ax.set(xlabel='Number of Responses', ylabel='Faculty')\n",
    "\n",
    "plt.savefig('charts/01_faculty.png', facecolor='white', bbox_inches='tight', pad_inches=0.5)"
   ]
  },
  {
   "cell_type": "markdown",
   "id": "d23e8b94",
   "metadata": {
    "hideCode": false,
    "hidePrompt": false
   },
   "source": [
    "# Which of the following organisations usually fund your research?\n",
    "Each individual respondant could specify multiple funding sources. \n",
    "\n",
    "Group 'All others' for cleaner plotting code - summation is handled in plotting."
   ]
  },
  {
   "cell_type": "code",
   "execution_count": null,
   "id": "feb664cc",
   "metadata": {
    "hideCode": false,
    "hidePrompt": false
   },
   "outputs": [],
   "source": [
    "funder_counts_df['group_funders'] = np.where(funder_counts_df['counts']<=4, 'All others', funder_counts_df['clean_funders'])\n",
    "funder_counts_df_grp = funder_counts_df.groupby('group_funders')['counts'].sum().to_frame().reset_index()\n",
    "funder_counts_df_grp['percent'] = funder_counts_df_grp['counts'] / len(funders_df.index)"
   ]
  },
  {
   "cell_type": "code",
   "execution_count": null,
   "id": "62d8483f",
   "metadata": {},
   "outputs": [],
   "source": [
    "plt.figure(figsize=(6, 7))\n",
    "\n",
    "ax = sns.barplot(data=funder_counts_df_grp, \n",
    "                 y='group_funders', x='counts', \n",
    "                 order=funder_counts_df_grp.sort_values('counts', ascending=False).group_funders)\n",
    "\n",
    "sns.despine()\n",
    "\n",
    "annotate_pc(ax, len(funders_df.index))\n",
    "\n",
    "ax.set(xlabel='Number of Responses', ylabel='Funder')\n",
    "\n",
    "plt.savefig('charts/02_funders.png', facecolor='white', bbox_inches='tight', pad_inches=0.5)"
   ]
  },
  {
   "cell_type": "markdown",
   "id": "c5f5dd40",
   "metadata": {
    "hideCode": false,
    "hidePrompt": false
   },
   "source": [
    "# What is your job title?\n",
    "\n",
    "Group 'All others' for cleaner plotting code - summation is handled in plotting."
   ]
  },
  {
   "cell_type": "code",
   "execution_count": null,
   "id": "15e9081c",
   "metadata": {},
   "outputs": [],
   "source": [
    "jobs_count_df['group_jobs'] = np.where(jobs_count_df['counts']<=2, 'All others', jobs_count_df['clean_job'])\n",
    "jobs_count_df_grp = jobs_count_df.groupby('group_jobs')['counts'].sum().to_frame().reset_index()\n",
    "jobs_count_df_grp['percent'] = jobs_count_df_grp['counts'] / len(sheffield_df.index)"
   ]
  },
  {
   "cell_type": "code",
   "execution_count": null,
   "id": "c1c933fd",
   "metadata": {},
   "outputs": [],
   "source": [
    "bars = alt.Chart(jobs_count_df_grp).mark_bar().encode(\n",
    "    x=alt.X('counts', axis=alt.Axis(title='Number of Responses')),\n",
    "    y=alt.Y('group_jobs', sort=alt.EncodingSortField('counts', op='min', order='descending'), axis=alt.Axis(title='Job Title'))\n",
    ")\n",
    "\n",
    "text = bars.mark_text(\n",
    "    align='left',\n",
    "    baseline='middle',\n",
    "    dx=3  # Nudges text to right so it doesn't appear on top of the bar\n",
    ").encode(\n",
    "    text=alt.Text('percent', format=',.1%')\n",
    ")\n",
    "\n",
    "job = bars + text\n",
    "\n",
    "save(job, \"charts/03_job.png\")\n",
    "\n",
    "job"
   ]
  },
  {
   "cell_type": "markdown",
   "id": "d9b2aa61",
   "metadata": {
    "hideCode": false,
    "hidePrompt": false
   },
   "source": [
    "# Do you use research software?\n",
    "\"Research software\" is any software you have used in the generation of a result that you expect to appear in a publication. This might be anything from a few-line script to clean some data, to a fully fledged software suite. It includes code you have written yourself and code written by someone else."
   ]
  },
  {
   "cell_type": "code",
   "execution_count": null,
   "id": "8460f229",
   "metadata": {
    "hideCode": false,
    "hidePrompt": false
   },
   "outputs": [],
   "source": [
    "bars = alt.Chart(sheffield_df).mark_bar().encode(\n",
    "    x=alt.X('count(use_software):Q', axis=alt.Axis(title='Number of Responses')),\n",
    "    y=alt.Y('use_software', axis=alt.Axis(title='Use Research Software'))\n",
    ")\n",
    "\n",
    "text = bars.mark_text(\n",
    "    align='left',\n",
    "    baseline='middle',\n",
    "    dx=3  # Nudges text to right so it doesn't appear on top of the bar\n",
    ").transform_joinaggregate(\n",
    "    total='count(*)'\n",
    ").transform_calculate(\n",
    "    pct='1 / datum.total'\n",
    ").encode(\n",
    "    text=alt.Text('sum(pct):Q', format=',.0%')\n",
    ")\n",
    "\n",
    "use = bars + text\n",
    "\n",
    "save(use, \"charts/04_use.png\")\n",
    "\n",
    "use"
   ]
  },
  {
   "cell_type": "markdown",
   "id": "c7fc3e87",
   "metadata": {
    "hideCode": false,
    "hidePrompt": false
   },
   "source": [
    "# How important is research software to your work?\n",
    "\n",
    "1: Not at all\n",
    "\n",
    "5: Vital"
   ]
  },
  {
   "cell_type": "code",
   "execution_count": null,
   "id": "1a0a6367",
   "metadata": {
    "hideCode": false,
    "hidePrompt": false
   },
   "outputs": [],
   "source": [
    "bars  = important = alt.Chart(sheffield_df).mark_bar().encode(\n",
    "    x=alt.X('count(importance_software)', axis=alt.Axis(title='Number of Responses')),\n",
    "    y=alt.Y('importance_software:N', axis=alt.Axis(title='Software Importance'))\n",
    ")\n",
    "\n",
    "text = bars.mark_text(\n",
    "    align='left',\n",
    "    baseline='middle',\n",
    "    dx=3  # Nudges text to right so it doesn't appear on top of the bar\n",
    ").transform_joinaggregate(\n",
    "    total='count(*)'\n",
    ").transform_calculate(\n",
    "    pct='1 / datum.total'\n",
    ").encode(\n",
    "    text=alt.Text('sum(pct):Q', format=',.0%')\n",
    ")\n",
    "\n",
    "important = bars + text\n",
    "\n",
    "save(use, \"charts/04_use.png\")\n",
    "\n",
    "important\n",
    "\n",
    "save(important, \"charts/05_important.png\")\n",
    "\n",
    "important"
   ]
  },
  {
   "cell_type": "markdown",
   "id": "5ce10cc7",
   "metadata": {
    "hideCode": false,
    "hidePrompt": false
   },
   "source": [
    "# Have you developed your own research software?"
   ]
  },
  {
   "cell_type": "code",
   "execution_count": null,
   "id": "bcd4e3c3",
   "metadata": {
    "hideCode": false,
    "hidePrompt": false
   },
   "outputs": [],
   "source": [
    "bars = alt.Chart(sheffield_df).mark_bar().encode(\n",
    "    x=alt.X('count(develop_own_code):Q', axis=alt.Axis(title='Number of Responses')),\n",
    "    y=alt.Y('develop_own_code', axis=alt.Axis(title='Develop Own Code'))\n",
    ")\n",
    "\n",
    "text = bars.mark_text(\n",
    "    align='left',\n",
    "    baseline='middle',\n",
    "    dx=3  # Nudges text to right so it doesn't appear on top of the bar\n",
    ").transform_joinaggregate(\n",
    "    total='count(*)'\n",
    ").transform_calculate(\n",
    "    pct='1 / datum.total'\n",
    ").encode(\n",
    "    text=alt.Text('sum(pct):Q', format=',.0%')\n",
    ")\n",
    "\n",
    "developed = bars + text\n",
    "\n",
    "save(developed, \"charts/06_developed.png\")\n",
    "\n",
    "developed"
   ]
  },
  {
   "cell_type": "markdown",
   "id": "1ff7c2c4",
   "metadata": {
    "hideCode": false,
    "hidePrompt": false
   },
   "source": [
    "# How do you rate your software development expertise?\n",
    "\n",
    "1: Beginner.\n",
    "5: Professional."
   ]
  },
  {
   "cell_type": "code",
   "execution_count": null,
   "id": "2e29e004",
   "metadata": {
    "hideCode": false,
    "hidePrompt": false
   },
   "outputs": [],
   "source": [
    "bars = alt.Chart(sheffield_df).mark_bar().encode(\n",
    "    x=alt.X('count(development_expertise):Q', axis=alt.Axis(title='Number of Responses')),\n",
    "    y=alt.Y('development_expertise', axis=alt.Axis(title='Development Expertise'))\n",
    ")\n",
    "\n",
    "text = bars.mark_text(\n",
    "    align='left',\n",
    "    baseline='middle',\n",
    "    dx=3  # Nudges text to right so it doesn't appear on top of the bar\n",
    ").transform_joinaggregate(\n",
    "    total='count(*)'\n",
    ").transform_calculate(\n",
    "    pct='1 / datum.total'\n",
    ").encode(\n",
    "    text=alt.Text('sum(pct):Q', format=',.0%')\n",
    ")\n",
    "\n",
    "rate_dev = bars + text\n",
    "\n",
    "save(rate_dev, \"charts/07_rate_dev.png\")\n",
    "\n",
    "rate_dev"
   ]
  },
  {
   "cell_type": "code",
   "execution_count": null,
   "id": "7ac8f9d1",
   "metadata": {
    "hideCode": false,
    "hidePrompt": false
   },
   "outputs": [],
   "source": [
    "sheffield_df_excl_no_resp = sheffield_df[(sheffield_df.development_expertise != 'No response')]\n",
    "\n",
    "bars = alt.Chart(sheffield_df_excl_no_resp).mark_bar().encode(\n",
    "    x=alt.X('count(development_expertise):Q', axis=alt.Axis(title='Number of Responses')),\n",
    "    y=alt.Y('development_expertise', axis=alt.Axis(title='Development Expertise'))\n",
    ")\n",
    "\n",
    "text = bars.mark_text(\n",
    "    align='left',\n",
    "    baseline='middle',\n",
    "    dx=3  # Nudges text to right so it doesn't appear on top of the bar\n",
    ").transform_joinaggregate(\n",
    "    total='count(*)'\n",
    ").transform_calculate(\n",
    "    pct='1 / datum.total'\n",
    ").encode(\n",
    "    text=alt.Text('sum(pct):Q', format=',.0%')\n",
    ")\n",
    "\n",
    "rate_dev = bars + text\n",
    "\n",
    "save(rate_dev, \"charts/07_rate_dev_exclude_no_response.png\")\n",
    "\n",
    "rate_dev"
   ]
  },
  {
   "cell_type": "markdown",
   "id": "6d8eacee",
   "metadata": {
    "hideCode": false,
    "hidePrompt": false
   },
   "source": [
    "# Do you feel that you have received sufficient training to develop reliable software?"
   ]
  },
  {
   "cell_type": "code",
   "execution_count": null,
   "id": "eca98c54",
   "metadata": {
    "hideCode": false,
    "hidePrompt": false
   },
   "outputs": [],
   "source": [
    "bars = alt.Chart(sheffield_df).mark_bar().encode(\n",
    "    x=alt.X('count(training):Q', axis=alt.Axis(title='Number of Responses')),\n",
    "    y=alt.Y('training', axis=alt.Axis(title='Sufficient Training'))\n",
    ")\n",
    "\n",
    "text = bars.mark_text(\n",
    "    align='left',\n",
    "    baseline='middle',\n",
    "    dx=3  # Nudges text to right so it doesn't appear on top of the bar\n",
    ").transform_joinaggregate(\n",
    "    total='count(*)'\n",
    ").transform_calculate(\n",
    "    pct='1 / datum.total'\n",
    ").encode(\n",
    "    text=alt.Text('sum(pct):Q', format=',.0%')\n",
    ")\n",
    "\n",
    "training = bars + text\n",
    "\n",
    "save(training, \"charts/08_training.png\")\n",
    "\n",
    "training"
   ]
  },
  {
   "cell_type": "code",
   "execution_count": null,
   "id": "b8ba2a99",
   "metadata": {
    "hideCode": false,
    "hidePrompt": false
   },
   "outputs": [],
   "source": [
    "sheffield_df_excl_no_resp = sheffield_df[(sheffield_df.training != 'No response')]\n",
    "\n",
    "bars = alt.Chart(sheffield_df_excl_no_resp).mark_bar().encode(\n",
    "    x=alt.X('count(training):Q', axis=alt.Axis(title='Number of Responses')),\n",
    "    y=alt.Y('training', axis=alt.Axis(title='Sufficient Training'))\n",
    ")\n",
    "\n",
    "text = bars.mark_text(\n",
    "    align='left',\n",
    "    baseline='middle',\n",
    "    dx=3  # Nudges text to right so it doesn't appear on top of the bar\n",
    ").transform_joinaggregate(\n",
    "    total='count(*)'\n",
    ").transform_calculate(\n",
    "    pct='1 / datum.total'\n",
    ").encode(\n",
    "    text=alt.Text('sum(pct):Q', format=',.0%')\n",
    ")\n",
    "\n",
    "training = bars + text\n",
    "\n",
    "save(training, \"charts/08_training_exclude_no_response.png\")\n",
    "\n",
    "training"
   ]
  },
  {
   "cell_type": "markdown",
   "id": "0ba36add",
   "metadata": {
    "hideCode": false,
    "hidePrompt": false
   },
   "source": [
    "# Would you be interested in the university helping you commercialise some of your research software?"
   ]
  },
  {
   "cell_type": "code",
   "execution_count": null,
   "id": "28054fbb",
   "metadata": {
    "hideCode": false,
    "hidePrompt": false
   },
   "outputs": [],
   "source": [
    "bars = alt.Chart(sheffield_df).mark_bar().encode(\n",
    "    x=alt.X('count(want_to_commercialise):Q', axis=alt.Axis(title='Number of Responses')),\n",
    "    y=alt.Y('want_to_commercialise', axis=alt.Axis(title='Want Help'))\n",
    ")\n",
    "\n",
    "text = bars.mark_text(\n",
    "    align='left',\n",
    "    baseline='middle',\n",
    "    dx=3  # Nudges text to right so it doesn't appear on top of the bar\n",
    ").transform_joinaggregate(\n",
    "    total='count(*)'\n",
    ").transform_calculate(\n",
    "    pct='1 / datum.total'\n",
    ").encode(\n",
    "    text=alt.Text('sum(pct):Q', format=',.0%')\n",
    ")\n",
    "\n",
    "commercialise = bars + text\n",
    "\n",
    "save(commercialise, \"charts/09_commercialise.png\")\n",
    "\n",
    "commercialise"
   ]
  },
  {
   "cell_type": "code",
   "execution_count": null,
   "id": "91840232",
   "metadata": {
    "hideCode": false,
    "hidePrompt": false
   },
   "outputs": [],
   "source": [
    "sheffield_df_excl_no_resp = sheffield_df[(sheffield_df.want_to_commercialise != 'No response')]\n",
    "\n",
    "bars = alt.Chart(sheffield_df_excl_no_resp).mark_bar().encode(\n",
    "    x=alt.X('count(want_to_commercialise):Q', axis=alt.Axis(title='Number of Responses')),\n",
    "    y=alt.Y('want_to_commercialise', axis=alt.Axis(title='Want Help'))\n",
    ")\n",
    "\n",
    "text = bars.mark_text(\n",
    "    align='left',\n",
    "    baseline='middle',\n",
    "    dx=3  # Nudges text to right so it doesn't appear on top of the bar\n",
    ").transform_joinaggregate(\n",
    "    total='count(*)'\n",
    ").transform_calculate(\n",
    "    pct='1 / datum.total'\n",
    ").encode(\n",
    "    text=alt.Text('sum(pct):Q', format=',.0%')\n",
    ")\n",
    "\n",
    "commercialise = bars + text\n",
    "\n",
    "save(commercialise, \"charts/09_commercialise_exclude_no_response.png\")\n",
    "\n",
    "commercialise"
   ]
  },
  {
   "cell_type": "markdown",
   "id": "2590ee1e",
   "metadata": {
    "hideCode": false,
    "hidePrompt": false
   },
   "source": [
    "# Do you feel that your research software is ready to be shared with a commercial partner?"
   ]
  },
  {
   "cell_type": "code",
   "execution_count": null,
   "id": "e8a30022",
   "metadata": {
    "hideCode": false,
    "hidePrompt": false
   },
   "outputs": [],
   "source": [
    "bars = alt.Chart(sheffield_df).mark_bar().encode(\n",
    "    x=alt.X('count(ready_to_share):Q', axis=alt.Axis(title='Number of Responses')),\n",
    "    y=alt.Y('ready_to_share', axis=alt.Axis(title='Ready to Share'))\n",
    ")\n",
    "\n",
    "text = bars.mark_text(\n",
    "    align='left',\n",
    "    baseline='middle',\n",
    "    dx=3  # Nudges text to right so it doesn't appear on top of the bar\n",
    ").transform_joinaggregate(\n",
    "    total='count(*)'\n",
    ").transform_calculate(\n",
    "    pct='1 / datum.total'\n",
    ").encode(\n",
    "    text=alt.Text('sum(pct):Q', format=',.0%')\n",
    ")\n",
    "\n",
    "partner = bars + text\n",
    "\n",
    "save(partner, \"charts/10_partner.png\")\n",
    "\n",
    "partner"
   ]
  },
  {
   "cell_type": "code",
   "execution_count": null,
   "id": "02850581",
   "metadata": {
    "hideCode": false,
    "hidePrompt": false
   },
   "outputs": [],
   "source": [
    "sheffield_df_excl_no_resp = sheffield_df[(sheffield_df.ready_to_share != 'No response')]\n",
    "\n",
    "bars = alt.Chart(sheffield_df_excl_no_resp).mark_bar().encode(\n",
    "    x=alt.X('count(ready_to_share):Q', axis=alt.Axis(title='Number of Responses')),\n",
    "    y=alt.Y('ready_to_share', axis=alt.Axis(title='Ready to Share'))\n",
    ")\n",
    "\n",
    "text = bars.mark_text(\n",
    "    align='left',\n",
    "    baseline='middle',\n",
    "    dx=3  # Nudges text to right so it doesn't appear on top of the bar\n",
    ").transform_joinaggregate(\n",
    "    total='count(*)'\n",
    ").transform_calculate(\n",
    "    pct='1 / datum.total'\n",
    ").encode(\n",
    "    text=alt.Text('sum(pct):Q', format=',.0%')\n",
    ")\n",
    "\n",
    "partner = bars + text\n",
    "\n",
    "save(partner, \"charts/10_partner_exclude_no_response.png\")\n",
    "\n",
    "partner"
   ]
  },
  {
   "cell_type": "markdown",
   "id": "72c32632",
   "metadata": {
    "hideCode": false,
    "hidePrompt": false
   },
   "source": [
    "# Have you used ShARC/Bessemer, the University's high-performance computing (HPC) system?"
   ]
  },
  {
   "cell_type": "code",
   "execution_count": null,
   "id": "f8de1f9b",
   "metadata": {
    "hideCode": false,
    "hidePrompt": false
   },
   "outputs": [],
   "source": [
    "bars = alt.Chart(sheffield_df).mark_bar().encode(\n",
    "    x=alt.X('count(hpc_use):Q', axis=alt.Axis(title='Number of Responses')),\n",
    "    y=alt.Y('hpc_use', axis=alt.Axis(title='HPC Use'))\n",
    ")\n",
    "\n",
    "text = bars.mark_text(\n",
    "    align='left',\n",
    "    baseline='middle',\n",
    "    dx=3  # Nudges text to right so it doesn't appear on top of the bar\n",
    ").transform_joinaggregate(\n",
    "    total='count(*)'\n",
    ").transform_calculate(\n",
    "    pct='1 / datum.total'\n",
    ").encode(\n",
    "    text=alt.Text('sum(pct):Q', format=',.1%')\n",
    ")\n",
    "\n",
    "hpc = bars + text\n",
    "\n",
    "save(hpc, \"charts/11_hpc.png\")\n",
    "\n",
    "hpc"
   ]
  },
  {
   "cell_type": "code",
   "execution_count": null,
   "id": "58af8402",
   "metadata": {
    "hideCode": false,
    "hidePrompt": false
   },
   "outputs": [],
   "source": [
    "sheffield_df_excl_no_resp = sheffield_df[(sheffield_df.hpc_use != 'No response')]\n",
    "\n",
    "bars = alt.Chart(sheffield_df_excl_no_resp).mark_bar().encode(\n",
    "    x=alt.X('count(hpc_use):Q', axis=alt.Axis(title='Number of Responses')),\n",
    "    y=alt.Y('hpc_use', axis=alt.Axis(title='HPC Use'))\n",
    ")\n",
    "\n",
    "text = bars.mark_text(\n",
    "    align='left',\n",
    "    baseline='middle',\n",
    "    dx=3  # Nudges text to right so it doesn't appear on top of the bar\n",
    ").transform_joinaggregate(\n",
    "    total='count(*)'\n",
    ").transform_calculate(\n",
    "    pct='1 / datum.total'\n",
    ").encode(\n",
    "    text=alt.Text('sum(pct):Q', format=',.1%')\n",
    ")\n",
    "\n",
    "hpc = bars + text\n",
    "\n",
    "save(hpc, \"charts/11_hpc_exclude_no_response.png\")\n",
    "\n",
    "hpc"
   ]
  },
  {
   "cell_type": "markdown",
   "id": "f5667ca7",
   "metadata": {
    "hideCode": false,
    "hidePrompt": false
   },
   "source": [
    "# How confident are you with the following technologies? [Version control]"
   ]
  },
  {
   "cell_type": "code",
   "execution_count": null,
   "id": "37c40b02",
   "metadata": {
    "hideCode": false,
    "hidePrompt": false
   },
   "outputs": [],
   "source": [
    "bars = alt.Chart(sheffield_df).mark_bar().encode(\n",
    "    x=alt.X('count(version_control):Q', axis=alt.Axis(title='Number of Responses')),\n",
    "    y=alt.Y('version_control', sort=conf_order, axis=alt.Axis(title='Confidence'))\n",
    ")\n",
    "\n",
    "text = bars.mark_text(\n",
    "    align='left',\n",
    "    baseline='middle',\n",
    "    dx=3  # Nudges text to right so it doesn't appear on top of the bar\n",
    ").transform_joinaggregate(\n",
    "    total='count(*)'\n",
    ").transform_calculate(\n",
    "    pct='1 / datum.total'\n",
    ").encode(\n",
    "    text=alt.Text('sum(pct):Q', format=',.0%')\n",
    ")\n",
    "\n",
    "tech_vc = bars + text\n",
    "\n",
    "save(tech_vc, \"charts/12_tech_vc.png\")\n",
    "\n",
    "tech_vc"
   ]
  },
  {
   "cell_type": "code",
   "execution_count": null,
   "id": "2d17ffb5",
   "metadata": {
    "hideCode": false,
    "hidePrompt": false
   },
   "outputs": [],
   "source": [
    "sheffield_df_excl_no_resp = sheffield_df[(sheffield_df.version_control != 'No response')]\n",
    "\n",
    "bars = alt.Chart(sheffield_df_excl_no_resp).mark_bar().encode(\n",
    "    x=alt.X('count(version_control):Q', axis=alt.Axis(title='Number of Responses')),\n",
    "    y=alt.Y('version_control', sort=conf_order, axis=alt.Axis(title='Confidence'))\n",
    ")\n",
    "\n",
    "text = bars.mark_text(\n",
    "    align='left',\n",
    "    baseline='middle',\n",
    "    dx=3  # Nudges text to right so it doesn't appear on top of the bar\n",
    ").transform_joinaggregate(\n",
    "    total='count(*)'\n",
    ").transform_calculate(\n",
    "    pct='1 / datum.total'\n",
    ").encode(\n",
    "    text=alt.Text('sum(pct):Q', format=',.0%')\n",
    ")\n",
    "\n",
    "tech_vc = bars + text\n",
    "\n",
    "save(tech_vc, \"charts/12_tech_vc_exclude_no_response.png\")\n",
    "\n",
    "tech_vc"
   ]
  },
  {
   "cell_type": "markdown",
   "id": "9cc0b0c1",
   "metadata": {
    "hideCode": false,
    "hidePrompt": false
   },
   "source": [
    "# How confident are you with the following technologies? [Continuous integration]"
   ]
  },
  {
   "cell_type": "code",
   "execution_count": null,
   "id": "d8a4d98c",
   "metadata": {
    "hideCode": false,
    "hidePrompt": false
   },
   "outputs": [],
   "source": [
    "bars = alt.Chart(sheffield_df).mark_bar().encode(\n",
    "    x=alt.X('count(continuous_integration):Q', axis=alt.Axis(title='Number of Responses')),\n",
    "    y=alt.Y('continuous_integration', sort=conf_order, axis=alt.Axis(title='Confidence'))\n",
    ")\n",
    "\n",
    "text = bars.mark_text(\n",
    "    align='left',\n",
    "    baseline='middle',\n",
    "    dx=3  # Nudges text to right so it doesn't appear on top of the bar\n",
    ").transform_joinaggregate(\n",
    "    total='count(*)'\n",
    ").transform_calculate(\n",
    "    pct='1 / datum.total'\n",
    ").encode(\n",
    "    text=alt.Text('sum(pct):Q', format=',.0%')\n",
    ")\n",
    "\n",
    "tech_ci = bars + text\n",
    "\n",
    "save(tech_ci, \"charts/13_tech_ci.png\")\n",
    "\n",
    "tech_ci"
   ]
  },
  {
   "cell_type": "code",
   "execution_count": null,
   "id": "a409dc5f",
   "metadata": {
    "hideCode": false,
    "hidePrompt": false
   },
   "outputs": [],
   "source": [
    "sheffield_df_excl_no_resp = sheffield_df[(sheffield_df.continuous_integration != 'No response')]\n",
    "\n",
    "bars = alt.Chart(sheffield_df_excl_no_resp).mark_bar().encode(\n",
    "    x=alt.X('count(continuous_integration):Q', axis=alt.Axis(title='Number of Responses')),\n",
    "    y=alt.Y('continuous_integration', sort=conf_order, axis=alt.Axis(title='Confidence'))\n",
    ")\n",
    "\n",
    "text = bars.mark_text(\n",
    "    align='left',\n",
    "    baseline='middle',\n",
    "    dx=3  # Nudges text to right so it doesn't appear on top of the bar\n",
    ").transform_joinaggregate(\n",
    "    total='count(*)'\n",
    ").transform_calculate(\n",
    "    pct='1 / datum.total'\n",
    ").encode(\n",
    "    text=alt.Text('sum(pct):Q', format=',.0%')\n",
    ")\n",
    "\n",
    "tech_ci = bars + text\n",
    "\n",
    "save(tech_ci, \"charts/13_tech_ci_exclude_no_response.png\")\n",
    "\n",
    "tech_ci"
   ]
  },
  {
   "cell_type": "markdown",
   "id": "d2118d35",
   "metadata": {
    "hideCode": false,
    "hidePrompt": false
   },
   "source": [
    "# How confident are you with the following technologies? [Unit testing]"
   ]
  },
  {
   "cell_type": "code",
   "execution_count": null,
   "id": "21c585cd",
   "metadata": {
    "hideCode": false,
    "hidePrompt": false
   },
   "outputs": [],
   "source": [
    "bars = alt.Chart(sheffield_df).mark_bar().encode(\n",
    "    x=alt.X('count(unit_testing):Q', axis=alt.Axis(title='Number of Responses')),\n",
    "    y=alt.Y('unit_testing', sort=conf_order, axis=alt.Axis(title='Confidence'))\n",
    ")\n",
    "\n",
    "text = bars.mark_text(\n",
    "    align='left',\n",
    "    baseline='middle',\n",
    "    dx=3  # Nudges text to right so it doesn't appear on top of the bar\n",
    ").transform_joinaggregate(\n",
    "    total='count(*)'\n",
    ").transform_calculate(\n",
    "    pct='1 / datum.total'\n",
    ").encode(\n",
    "    text=alt.Text('sum(pct):Q', format=',.0%')\n",
    ")\n",
    "\n",
    "tech_test = bars + text\n",
    "\n",
    "save(tech_test, \"charts/14_tech_test.png\")\n",
    "\n",
    "tech_test"
   ]
  },
  {
   "cell_type": "code",
   "execution_count": null,
   "id": "0f61f1be",
   "metadata": {
    "hideCode": false,
    "hidePrompt": false
   },
   "outputs": [],
   "source": [
    "sheffield_df_excl_no_resp = sheffield_df[(sheffield_df.unit_testing != 'No response')]\n",
    "\n",
    "bars = alt.Chart(sheffield_df_excl_no_resp).mark_bar().encode(\n",
    "    x=alt.X('count(unit_testing):Q', axis=alt.Axis(title='Number of Responses')),\n",
    "    y=alt.Y('unit_testing', sort=conf_order, axis=alt.Axis(title='Confidence'))\n",
    ")\n",
    "\n",
    "text = bars.mark_text(\n",
    "    align='left',\n",
    "    baseline='middle',\n",
    "    dx=3  # Nudges text to right so it doesn't appear on top of the bar\n",
    ").transform_joinaggregate(\n",
    "    total='count(*)'\n",
    ").transform_calculate(\n",
    "    pct='1 / datum.total'\n",
    ").encode(\n",
    "    text=alt.Text('sum(pct):Q', format=',.0%')\n",
    ")\n",
    "\n",
    "tech_test = bars + text\n",
    "\n",
    "save(tech_test, \"charts/14_tech_test_exclude_no_response.png\")\n",
    "\n",
    "tech_test"
   ]
  },
  {
   "cell_type": "markdown",
   "id": "4bcded1a",
   "metadata": {
    "hideCode": false,
    "hidePrompt": false
   },
   "source": [
    "# How would you rate the university's current level of support for your software-development needs?\n",
    "\n",
    "1 poor, 5 excellent"
   ]
  },
  {
   "cell_type": "code",
   "execution_count": null,
   "id": "e0d59878",
   "metadata": {
    "hideCode": false,
    "hidePrompt": false
   },
   "outputs": [],
   "source": [
    "bars = alt.Chart(sheffield_df).mark_bar().encode(\n",
    "    x=alt.X('count(current_support):Q', axis=alt.Axis(title='Number of Responses')),\n",
    "    y=alt.Y('current_support:N', axis=alt.Axis(title='Software Needs'))\n",
    ")\n",
    "\n",
    "text = bars.mark_text(\n",
    "    align='left',\n",
    "    baseline='middle',\n",
    "    dx=3  # Nudges text to right so it doesn't appear on top of the bar\n",
    ").transform_joinaggregate(\n",
    "    total='count(*)'\n",
    ").transform_calculate(\n",
    "    pct='1 / datum.total'\n",
    ").encode(\n",
    "    text=alt.Text('sum(pct):Q', format=',.0%')\n",
    ")\n",
    "\n",
    "support = bars + text\n",
    "\n",
    "save(support, \"charts/15_support.png\")\n",
    "\n",
    "support"
   ]
  },
  {
   "cell_type": "code",
   "execution_count": null,
   "id": "b7a4d0fa",
   "metadata": {
    "hideCode": false,
    "hidePrompt": false
   },
   "outputs": [],
   "source": [
    "sheffield_df_excl_no_resp = sheffield_df[(sheffield_df.current_support != 'No response')]\n",
    "\n",
    "bars = alt.Chart(sheffield_df_excl_no_resp).mark_bar().encode(\n",
    "    x=alt.X('count(current_support):Q', axis=alt.Axis(title='Number of Responses')),\n",
    "    y=alt.Y('current_support:N', axis=alt.Axis(title='Software Needs'))\n",
    ")\n",
    "\n",
    "text = bars.mark_text(\n",
    "    align='left',\n",
    "    baseline='middle',\n",
    "    dx=3  # Nudges text to right so it doesn't appear on top of the bar\n",
    ").transform_joinaggregate(\n",
    "    total='count(*)'\n",
    ").transform_calculate(\n",
    "    pct='1 / datum.total'\n",
    ").encode(\n",
    "    text=alt.Text('sum(pct):Q', format=',.0%')\n",
    ")\n",
    "\n",
    "support = bars + text\n",
    "\n",
    "save(support, \"charts/15_support_exclude_no_response.png\")\n",
    "\n",
    "support"
   ]
  },
  {
   "cell_type": "markdown",
   "id": "97971285",
   "metadata": {
    "hideCode": false,
    "hidePrompt": false
   },
   "source": [
    "# Have you or someone in your group ever hired someone specifically to develop software?"
   ]
  },
  {
   "cell_type": "code",
   "execution_count": null,
   "id": "c6dacccb",
   "metadata": {
    "hideCode": false,
    "hidePrompt": false
   },
   "outputs": [],
   "source": [
    "bars = alt.Chart(sheffield_df).mark_bar().encode(\n",
    "    x=alt.X('count(hired_developer):Q', axis=alt.Axis(title='Number of Responses')),\n",
    "    y=alt.Y('hired_developer', axis=alt.Axis(title='Hired'))\n",
    ")\n",
    "\n",
    "text = bars.mark_text(\n",
    "    align='left',\n",
    "    baseline='middle',\n",
    "    dx=3  # Nudges text to right so it doesn't appear on top of the bar\n",
    ").transform_joinaggregate(\n",
    "    total='count(*)'\n",
    ").transform_calculate(\n",
    "    pct='1 / datum.total'\n",
    ").encode(\n",
    "    text=alt.Text('sum(pct):Q', format=',.0%')\n",
    ")\n",
    "\n",
    "hired = bars + text\n",
    "\n",
    "save(hired, \"charts/16_hired.png\")\n",
    "\n",
    "hired"
   ]
  },
  {
   "cell_type": "markdown",
   "id": "60b50fc1",
   "metadata": {
    "hideCode": false,
    "hidePrompt": false
   },
   "source": [
    "# Have you ever included costs for software development in a funding proposal?\n",
    "\n",
    "Check all that apply"
   ]
  },
  {
   "cell_type": "code",
   "execution_count": null,
   "id": "aad13264",
   "metadata": {
    "hideCode": false,
    "hidePrompt": false
   },
   "outputs": [],
   "source": [
    "bars = alt.Chart(funds_for_development_df).mark_bar().encode(\n",
    "    x=alt.X('count(funds_for_development):Q', axis=alt.Axis(title='Number of Responses')),\n",
    "    y=alt.Y('funds_for_development', sort='-x', axis=alt.Axis(title='Funds'))\n",
    ")\n",
    "\n",
    "text = bars.mark_text(\n",
    "    align='left',\n",
    "    baseline='middle',\n",
    "    dx=3  # Nudges text to right so it doesn't appear on top of the bar\n",
    ").transform_joinaggregate(\n",
    "    total='count(*)'\n",
    ").transform_calculate(\n",
    "    pct='1 / datum.total'\n",
    ").encode(\n",
    "    text=alt.Text('sum(pct):Q', format=',.0%')\n",
    ")\n",
    "\n",
    "funding = bars + text\n",
    "\n",
    "save(funding, \"charts/17_funding.png\")\n",
    "\n",
    "funding"
   ]
  },
  {
   "cell_type": "code",
   "execution_count": null,
   "id": "f6f19e67",
   "metadata": {
    "hideCode": false,
    "hidePrompt": false
   },
   "outputs": [],
   "source": [
    "funds_for_development_df_excl_not_funding = funds_for_development_df[(funds_for_development_df.funds_for_development != \"No (I'm not involved in writing funding proposals)\")]\n",
    "\n",
    "bars = alt.Chart(funds_for_development_df_excl_not_funding).mark_bar().encode(\n",
    "    x=alt.X('count(funds_for_development):Q', axis=alt.Axis(title='Number of Responses')),\n",
    "    y=alt.Y('funds_for_development', sort='-x', axis=alt.Axis(title='Funds'))\n",
    ")\n",
    "\n",
    "text = bars.mark_text(\n",
    "    align='left',\n",
    "    baseline='middle',\n",
    "    dx=3  # Nudges text to right so it doesn't appear on top of the bar\n",
    ").transform_joinaggregate(\n",
    "    total='count(*)'\n",
    ").transform_calculate(\n",
    "    pct='1 / datum.total'\n",
    ").encode(\n",
    "    text=alt.Text('sum(pct):Q', format=',.0%')\n",
    ")\n",
    "\n",
    "funding = bars + text\n",
    "\n",
    "save(funding, \"charts/17a_funding_excl_not_funding.png\")\n",
    "\n",
    "funding"
   ]
  },
  {
   "cell_type": "markdown",
   "id": "e2fbd23c",
   "metadata": {
    "hideCode": false,
    "hidePrompt": false
   },
   "source": [
    "Percent expecting to write software, but not asking for money to do so."
   ]
  },
  {
   "cell_type": "code",
   "execution_count": null,
   "id": "e966c555",
   "metadata": {
    "hideCode": false,
    "hidePrompt": false
   },
   "outputs": [],
   "source": [
    "0.18/(0.27+0.18)*100"
   ]
  },
  {
   "cell_type": "markdown",
   "id": "7e00e312",
   "metadata": {
    "hideCode": false,
    "hidePrompt": false
   },
   "source": [
    "# How suitable would the following models be for your software development needs? [Hire a full-time software developer]"
   ]
  },
  {
   "cell_type": "code",
   "execution_count": null,
   "id": "afeabad1",
   "metadata": {
    "hideCode": false,
    "hidePrompt": false
   },
   "outputs": [],
   "source": [
    "bars = alt.Chart(sheffield_df).mark_bar().encode(\n",
    "    x=alt.X('count(hire_full_time_developer):Q', axis=alt.Axis(title='Number of Responses')),\n",
    "    y=alt.Y('hire_full_time_developer', axis=alt.Axis(title='Hire'))\n",
    ")\n",
    "\n",
    "text = bars.mark_text(\n",
    "    align='left',\n",
    "    baseline='middle',\n",
    "    dx=3  # Nudges text to right so it doesn't appear on top of the bar\n",
    ").transform_joinaggregate(\n",
    "    total='count(*)'\n",
    ").transform_calculate(\n",
    "    pct='1 / datum.total'\n",
    ").encode(\n",
    "    text=alt.Text('sum(pct):Q', format=',.0%')\n",
    ")\n",
    "\n",
    "model_ft = bars + text\n",
    "\n",
    "save(model_ft, \"charts/18_model_ft.png\")\n",
    "\n",
    "model_ft"
   ]
  },
  {
   "cell_type": "code",
   "execution_count": null,
   "id": "cb9c6784",
   "metadata": {
    "hideCode": false,
    "hidePrompt": false
   },
   "outputs": [],
   "source": [
    "sheffield_df_excl_no_resp = sheffield_df[(sheffield_df.hire_full_time_developer != 'No response')]\n",
    "\n",
    "bars = alt.Chart(sheffield_df_excl_no_resp).mark_bar().encode(\n",
    "    x=alt.X('count(hire_full_time_developer):Q', axis=alt.Axis(title='Number of Responses')),\n",
    "    y=alt.Y('hire_full_time_developer', axis=alt.Axis(title='Hire'))\n",
    ")\n",
    "\n",
    "text = bars.mark_text(\n",
    "    align='left',\n",
    "    baseline='middle',\n",
    "    dx=3  # Nudges text to right so it doesn't appear on top of the bar\n",
    ").transform_joinaggregate(\n",
    "    total='count(*)'\n",
    ").transform_calculate(\n",
    "    pct='1 / datum.total'\n",
    ").encode(\n",
    "    text=alt.Text('sum(pct):Q', format=',.0%')\n",
    ")\n",
    "\n",
    "model_ft = bars + text\n",
    "\n",
    "save(model_ft, \"charts/18_model_ft_exclude_no_response.png\")\n",
    "\n",
    "model_ft"
   ]
  },
  {
   "cell_type": "markdown",
   "id": "cd1062c4",
   "metadata": {
    "hideCode": false,
    "hidePrompt": false
   },
   "source": [
    "# How suitable would the following models be for your software development needs? [Recruit a developer (or fractional FTE equivalent of a developer) from a central University of Sheffield pool as needed]"
   ]
  },
  {
   "cell_type": "code",
   "execution_count": null,
   "id": "84e7440d",
   "metadata": {
    "hideCode": false,
    "hidePrompt": false
   },
   "outputs": [],
   "source": [
    "bars = alt.Chart(sheffield_df).mark_bar().encode(\n",
    "    x=alt.X('count(hire_rse):Q', axis=alt.Axis(title='Number of Responses')),\n",
    "    y=alt.Y('hire_rse', axis=alt.Axis(title='RSE'))\n",
    ")\n",
    "\n",
    "text = bars.mark_text(\n",
    "    align='left',\n",
    "    baseline='middle',\n",
    "    dx=3  # Nudges text to right so it doesn't appear on top of the bar\n",
    ").transform_joinaggregate(\n",
    "    total='count(*)'\n",
    ").transform_calculate(\n",
    "    pct='1 / datum.total'\n",
    ").encode(\n",
    "    text=alt.Text('sum(pct):Q', format=',.0%')\n",
    ")\n",
    "\n",
    "model_rse = bars + text\n",
    "\n",
    "save(model_rse, \"charts/19_model_rse.png\")\n",
    "\n",
    "model_rse"
   ]
  },
  {
   "cell_type": "code",
   "execution_count": null,
   "id": "6712e86d",
   "metadata": {
    "hideCode": false,
    "hidePrompt": false
   },
   "outputs": [],
   "source": [
    "sheffield_df_excl_no_resp = sheffield_df[(sheffield_df.hire_rse != 'No response')]\n",
    "\n",
    "bars = alt.Chart(sheffield_df_excl_no_resp).mark_bar().encode(\n",
    "    x=alt.X('count(hire_rse):Q', axis=alt.Axis(title='Number of Responses')),\n",
    "    y=alt.Y('hire_rse', axis=alt.Axis(title='RSE'))\n",
    ")\n",
    "\n",
    "text = bars.mark_text(\n",
    "    align='left',\n",
    "    baseline='middle',\n",
    "    dx=3  # Nudges text to right so it doesn't appear on top of the bar\n",
    ").transform_joinaggregate(\n",
    "    total='count(*)'\n",
    ").transform_calculate(\n",
    "    pct='1 / datum.total'\n",
    ").encode(\n",
    "    text=alt.Text('sum(pct):Q', format=',.0%')\n",
    ")\n",
    "\n",
    "model_rse = bars + text\n",
    "\n",
    "save(model_rse, \"charts/19_model_rse_exclude_no_response.png\")\n",
    "\n",
    "model_rse"
   ]
  }
 ],
 "metadata": {
  "hide_code_all_hidden": false,
  "kernelspec": {
   "display_name": "Python 3 (ipykernel)",
   "language": "python",
   "name": "python3"
  },
  "language_info": {
   "codemirror_mode": {
    "name": "ipython",
    "version": 3
   },
   "file_extension": ".py",
   "mimetype": "text/x-python",
   "name": "python",
   "nbconvert_exporter": "python",
   "pygments_lexer": "ipython3",
   "version": "3.7.10"
  }
 },
 "nbformat": 4,
 "nbformat_minor": 5
}
