{
 "cells": [
  {
   "cell_type": "code",
   "execution_count": null,
   "id": "f231bd0c",
   "metadata": {},
   "outputs": [],
   "source": [
    "import altair as alt\n",
    "import pandas as pd"
   ]
  },
  {
   "cell_type": "code",
   "execution_count": null,
   "id": "f9cb776e",
   "metadata": {},
   "outputs": [],
   "source": [
    "sheffield_df = pd.read_csv('./data/clean/sheffield_clean.csv')\n",
    "funders_df = pd.read_csv('./data/clean/funders_clean.csv')"
   ]
  },
  {
   "cell_type": "markdown",
   "id": "711e57ff",
   "metadata": {},
   "source": [
    "# Funding Source"
   ]
  },
  {
   "cell_type": "code",
   "execution_count": null,
   "id": "c75da043",
   "metadata": {},
   "outputs": [],
   "source": [
    "alt.Chart(sheffield_df).mark_bar().encode(\n",
    "    x=alt.X('count(faculty):Q', axis=alt.Axis(title='Number of Responses')),\n",
    "    y=alt.Y('faculty:N', sort='-x', axis=alt.Axis(title='Faculty'))\n",
    ")"
   ]
  }
 ],
 "metadata": {
  "kernelspec": {
   "display_name": "Python 3",
   "language": "python",
   "name": "python3"
  },
  "language_info": {
   "codemirror_mode": {
    "name": "ipython",
    "version": 3
   },
   "file_extension": ".py",
   "mimetype": "text/x-python",
   "name": "python",
   "nbconvert_exporter": "python",
   "pygments_lexer": "ipython3",
   "version": "3.7.10"
  }
 },
 "nbformat": 4,
 "nbformat_minor": 5
}
